{
 "cells": [
  {
   "cell_type": "markdown",
   "metadata": {},
   "source": [
    "---\n",
    "comments: true\n",
    "layout: post\n",
    "title: Python AI model with mediapipe and opencv\n",
    "description: Using your default camera and mediapipe. The code is able to access your camera and spatially analyze your face so that, we can see how you look before you take the photo and if your face is perfectly facing the camera or not\n",
    "type: hacks\n",
    "courses: { csp: {week: 2}}\n",
    "---\n",
    "\n",
    "Using your default camera and mediapipe. The code is able to access your camera and spatially analyze your face so that, we can see how you look before you take the photo and if your face is perfectly facing the camera or not"
   ]
  },
  {
   "cell_type": "code",
   "execution_count": null,
   "metadata": {
    "vscode": {
     "languageId": "plaintext"
    }
   },
   "outputs": [],
   "source": [
    "import cv2\n",
    "import mediapipe as mp\n",
    "\n",
    "# Initialize the FaceMesh model\n",
    "mp_face_mesh = mp.solutions.face_mesh\n",
    "face_mesh = mp_face_mesh.FaceMesh()\n",
    "\n",
    "# Initialize the camera\n",
    "cap = cv2.VideoCapture(0)\n",
    "\n",
    "while True:\n",
    "    # Capture frame-by-frame\n",
    "    ret, frame = cap.read()\n",
    "\n",
    "    # Check for key press\n",
    "    key = cv2.waitKey(1)\n",
    "\n",
    "    if key & 0xFF == ord('q'):\n",
    "        # Press 'q' to exit the script\n",
    "        break\n",
    "    elif key & 0xFF == ord(' '):\n",
    "        # Press 'SPACE' to take a photo and save the original frame as \"opencv_frame.png\"\n",
    "        cv2.imwrite(\"opencv_frame.png\", frame.copy())  # Save the original frame\n",
    "        print(\"Photo taken and saved as 'opencv_frame.png'\")\n",
    "\n",
    "    # Convert the frame to RGB\n",
    "    frame_rgb = cv2.cvtColor(frame, cv2.COLOR_BGR2RGB)\n",
    "\n",
    "    # Process the frame with FaceMesh\n",
    "    results = face_mesh.process(frame_rgb)\n",
    "\n",
    "    # Check if any face was detected\n",
    "    if results.multi_face_landmarks:\n",
    "        # Loop over each detected face\n",
    "        for face_landmarks in results.multi_face_landmarks:\n",
    "            for landmark in face_landmarks.landmark:\n",
    "                x, y = int(landmark.x * frame.shape[1]), int(landmark.y * frame.shape[0])\n",
    "                # Draw circles at each facial landmark point\n",
    "                cv2.circle(frame, (x, y), 2, (0, 0, 255), -1)\n",
    "\n",
    "    # Display the frame with FaceMesh processing for the live camera feed\n",
    "    cv2.imshow('FaceMesh Detection (Live Feed)', frame)\n",
    "\n",
    "# Release the camera and close the OpenCV window\n",
    "cap.release()\n",
    "cv2.destroyAllWindows()\n"
   ]
  }
 ],
 "metadata": {
  "language_info": {
   "name": "python"
  },
  "orig_nbformat": 4
 },
 "nbformat": 4,
 "nbformat_minor": 2
}
